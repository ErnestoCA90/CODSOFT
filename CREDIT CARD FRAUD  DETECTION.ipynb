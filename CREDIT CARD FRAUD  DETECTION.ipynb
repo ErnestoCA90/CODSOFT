{
 "cells": [
  {
   "cell_type": "markdown",
   "id": "255cd6fd",
   "metadata": {},
   "source": [
    "# TASK2\n",
    "## CREDIT CARD FRAUD DETECTION\n",
    "\n",
    "Build a model to detect fraudulent credit card transactions. Use a dataset containing information about credit card transactions, and experiment with algorithms like **Logistic Regression, Decision Trees, or Random Forests** to classify transactions as fraudulent or legitimate."
   ]
  },
  {
   "cell_type": "markdown",
   "id": "40110d81",
   "metadata": {},
   "source": [
    "### Data dictionary\n",
    "\n",
    "1. **Unnamed: 0:** Index.\n",
    "\n",
    "2. **trans_date_trans_time:** Transaction date and time.\n",
    "\n",
    "3. **cc_num:** Credit card number.\n",
    "\n",
    "4. **merchant:** Merchant name.\n",
    "\n",
    "5. **category:** Merchant category.\n",
    "\n",
    "6. **amt:** Transaction amount.\n",
    "\n",
    "7. **first:** Cardholder's first name.\n",
    "\n",
    "8. **last:** Cardholder's last name.\n",
    "\n",
    "9. **gender:** Cardholder's gender.\n",
    "\n",
    "10. **street:** Cardholder's street address.\n",
    "\n",
    "11. **city:** Cardholder's city.\n",
    "\n",
    "12. **state:** Cardholder's state.\n",
    "\n",
    "13. **zip:** Cardholder's zip code.\n",
    "\n",
    "14. **lat:** Cardholder's latitude.\n",
    "\n",
    "15. **long:** Cardholder's longitude.\n",
    "\n",
    "16. **city_pop:** Cardholder's city population.\n",
    "\n",
    "17. **job:** Cardholder's job.\n",
    "\n",
    "18. **dob:** Cardholder's date of birth.\n",
    "\n",
    "19. **trans_num:** Transaction number.\n",
    "\n",
    "20. **unix_time:** Transaction timestamp in Unix format.\n",
    "\n",
    "21. **merch_lat:** Merchant's latitude.\n",
    "\n",
    "22. **merch_long:** Merchant's longitude.\n",
    "\n",
    "23. **is_fraud:** Fraud indicator (0 = legitimate, 1 = fraudulent)."
   ]
  },
  {
   "cell_type": "code",
   "execution_count": 1,
   "id": "f3603f79",
   "metadata": {},
   "outputs": [],
   "source": [
    "import pandas as pd\n",
    "import math\n",
    "import numpy as np\n",
    "import scipy.stats as stats\n",
    "from scipy.stats import binom\n",
    "import seaborn as sns\n",
    "import matplotlib.pyplot as plt\n",
    "from scipy.stats import norm\n",
    "\n",
    "import warnings\n",
    "warnings.filterwarnings('ignore')"
   ]
  },
  {
   "cell_type": "code",
   "execution_count": 2,
   "id": "33375677",
   "metadata": {},
   "outputs": [],
   "source": [
    "from sklearn.preprocessing import StandardScaler\n",
    "from sklearn.model_selection import train_test_split\n",
    "from sklearn.linear_model import LogisticRegression\n",
    "from sklearn.ensemble import RandomForestClassifier\n",
    "from sklearn.metrics import classification_report, confusion_matrix, accuracy_score\n",
    "from datetime import datetime\n"
   ]
  },
  {
   "cell_type": "code",
   "execution_count": 3,
   "id": "4433eb3c",
   "metadata": {},
   "outputs": [],
   "source": [
    "train_data = pd.read_csv(\"fraudTrain.csv\")\n",
    "test_data = pd.read_csv(\"fraudTest.csv\")"
   ]
  },
  {
   "cell_type": "code",
   "execution_count": 4,
   "id": "2b70d021",
   "metadata": {},
   "outputs": [],
   "source": [
    "# Concatenate the training and test datasets\n",
    "combined_data = pd.concat([train_data, test_data], axis=0).reset_index(drop=True)"
   ]
  },
  {
   "cell_type": "code",
   "execution_count": 21,
   "id": "3dbde230",
   "metadata": {},
   "outputs": [
    {
     "data": {
      "text/html": [
       "<div>\n",
       "<style scoped>\n",
       "    .dataframe tbody tr th:only-of-type {\n",
       "        vertical-align: middle;\n",
       "    }\n",
       "\n",
       "    .dataframe tbody tr th {\n",
       "        vertical-align: top;\n",
       "    }\n",
       "\n",
       "    .dataframe thead th {\n",
       "        text-align: right;\n",
       "    }\n",
       "</style>\n",
       "<table border=\"1\" class=\"dataframe\">\n",
       "  <thead>\n",
       "    <tr style=\"text-align: right;\">\n",
       "      <th></th>\n",
       "      <th>amt</th>\n",
       "      <th>lat</th>\n",
       "      <th>long</th>\n",
       "      <th>city_pop</th>\n",
       "      <th>is_fraud</th>\n",
       "      <th>age</th>\n",
       "      <th>merchant_fraud_Abbott-Rogahn</th>\n",
       "      <th>merchant_fraud_Abbott-Steuber</th>\n",
       "      <th>merchant_fraud_Abernathy and Sons</th>\n",
       "      <th>merchant_fraud_Abshire PLC</th>\n",
       "      <th>...</th>\n",
       "      <th>job_Visual merchandiser</th>\n",
       "      <th>job_Volunteer coordinator</th>\n",
       "      <th>job_Warden/ranger</th>\n",
       "      <th>job_Warehouse manager</th>\n",
       "      <th>job_Waste management officer</th>\n",
       "      <th>job_Water engineer</th>\n",
       "      <th>job_Water quality scientist</th>\n",
       "      <th>job_Web designer</th>\n",
       "      <th>job_Wellsite geologist</th>\n",
       "      <th>job_Writer</th>\n",
       "    </tr>\n",
       "  </thead>\n",
       "  <tbody>\n",
       "    <tr>\n",
       "      <th>0</th>\n",
       "      <td>-0.408741</td>\n",
       "      <td>-0.485167</td>\n",
       "      <td>0.658263</td>\n",
       "      <td>-0.282429</td>\n",
       "      <td>0</td>\n",
       "      <td>-0.845898</td>\n",
       "      <td>0</td>\n",
       "      <td>0</td>\n",
       "      <td>0</td>\n",
       "      <td>0</td>\n",
       "      <td>...</td>\n",
       "      <td>0</td>\n",
       "      <td>0</td>\n",
       "      <td>0</td>\n",
       "      <td>0</td>\n",
       "      <td>0</td>\n",
       "      <td>0</td>\n",
       "      <td>0</td>\n",
       "      <td>0</td>\n",
       "      <td>0</td>\n",
       "      <td>0</td>\n",
       "    </tr>\n",
       "    <tr>\n",
       "      <th>1</th>\n",
       "      <td>0.233378</td>\n",
       "      <td>2.040531</td>\n",
       "      <td>-2.035415</td>\n",
       "      <td>-0.293527</td>\n",
       "      <td>0</td>\n",
       "      <td>-0.270874</td>\n",
       "      <td>0</td>\n",
       "      <td>0</td>\n",
       "      <td>0</td>\n",
       "      <td>0</td>\n",
       "      <td>...</td>\n",
       "      <td>0</td>\n",
       "      <td>0</td>\n",
       "      <td>0</td>\n",
       "      <td>0</td>\n",
       "      <td>0</td>\n",
       "      <td>0</td>\n",
       "      <td>0</td>\n",
       "      <td>0</td>\n",
       "      <td>0</td>\n",
       "      <td>0</td>\n",
       "    </tr>\n",
       "    <tr>\n",
       "      <th>2</th>\n",
       "      <td>0.942184</td>\n",
       "      <td>0.718034</td>\n",
       "      <td>-1.602731</td>\n",
       "      <td>-0.280243</td>\n",
       "      <td>0</td>\n",
       "      <td>0.649165</td>\n",
       "      <td>0</td>\n",
       "      <td>0</td>\n",
       "      <td>0</td>\n",
       "      <td>0</td>\n",
       "      <td>...</td>\n",
       "      <td>0</td>\n",
       "      <td>0</td>\n",
       "      <td>0</td>\n",
       "      <td>0</td>\n",
       "      <td>0</td>\n",
       "      <td>0</td>\n",
       "      <td>0</td>\n",
       "      <td>0</td>\n",
       "      <td>0</td>\n",
       "      <td>0</td>\n",
       "    </tr>\n",
       "    <tr>\n",
       "      <th>3</th>\n",
       "      <td>-0.157381</td>\n",
       "      <td>1.516580</td>\n",
       "      <td>-1.591951</td>\n",
       "      <td>-0.287590</td>\n",
       "      <td>0</td>\n",
       "      <td>0.361653</td>\n",
       "      <td>0</td>\n",
       "      <td>0</td>\n",
       "      <td>0</td>\n",
       "      <td>0</td>\n",
       "      <td>...</td>\n",
       "      <td>0</td>\n",
       "      <td>0</td>\n",
       "      <td>0</td>\n",
       "      <td>0</td>\n",
       "      <td>0</td>\n",
       "      <td>0</td>\n",
       "      <td>0</td>\n",
       "      <td>0</td>\n",
       "      <td>0</td>\n",
       "      <td>0</td>\n",
       "    </tr>\n",
       "    <tr>\n",
       "      <th>4</th>\n",
       "      <td>-0.176470</td>\n",
       "      <td>-0.023388</td>\n",
       "      <td>0.783024</td>\n",
       "      <td>-0.293693</td>\n",
       "      <td>0</td>\n",
       "      <td>-0.730894</td>\n",
       "      <td>0</td>\n",
       "      <td>0</td>\n",
       "      <td>0</td>\n",
       "      <td>0</td>\n",
       "      <td>...</td>\n",
       "      <td>0</td>\n",
       "      <td>0</td>\n",
       "      <td>0</td>\n",
       "      <td>0</td>\n",
       "      <td>0</td>\n",
       "      <td>0</td>\n",
       "      <td>0</td>\n",
       "      <td>0</td>\n",
       "      <td>0</td>\n",
       "      <td>0</td>\n",
       "    </tr>\n",
       "  </tbody>\n",
       "</table>\n",
       "<p>5 rows × 2169 columns</p>\n",
       "</div>"
      ],
      "text/plain": [
       "        amt       lat      long  city_pop  is_fraud       age  \\\n",
       "0 -0.408741 -0.485167  0.658263 -0.282429         0 -0.845898   \n",
       "1  0.233378  2.040531 -2.035415 -0.293527         0 -0.270874   \n",
       "2  0.942184  0.718034 -1.602731 -0.280243         0  0.649165   \n",
       "3 -0.157381  1.516580 -1.591951 -0.287590         0  0.361653   \n",
       "4 -0.176470 -0.023388  0.783024 -0.293693         0 -0.730894   \n",
       "\n",
       "   merchant_fraud_Abbott-Rogahn  merchant_fraud_Abbott-Steuber  \\\n",
       "0                             0                              0   \n",
       "1                             0                              0   \n",
       "2                             0                              0   \n",
       "3                             0                              0   \n",
       "4                             0                              0   \n",
       "\n",
       "   merchant_fraud_Abernathy and Sons  merchant_fraud_Abshire PLC  ...  \\\n",
       "0                                  0                           0  ...   \n",
       "1                                  0                           0  ...   \n",
       "2                                  0                           0  ...   \n",
       "3                                  0                           0  ...   \n",
       "4                                  0                           0  ...   \n",
       "\n",
       "   job_Visual merchandiser  job_Volunteer coordinator  job_Warden/ranger  \\\n",
       "0                        0                          0                  0   \n",
       "1                        0                          0                  0   \n",
       "2                        0                          0                  0   \n",
       "3                        0                          0                  0   \n",
       "4                        0                          0                  0   \n",
       "\n",
       "   job_Warehouse manager  job_Waste management officer  job_Water engineer  \\\n",
       "0                      0                             0                   0   \n",
       "1                      0                             0                   0   \n",
       "2                      0                             0                   0   \n",
       "3                      0                             0                   0   \n",
       "4                      0                             0                   0   \n",
       "\n",
       "   job_Water quality scientist  job_Web designer  job_Wellsite geologist  \\\n",
       "0                            0                 0                       0   \n",
       "1                            0                 0                       0   \n",
       "2                            0                 0                       0   \n",
       "3                            0                 0                       0   \n",
       "4                            0                 0                       0   \n",
       "\n",
       "   job_Writer  \n",
       "0           0  \n",
       "1           0  \n",
       "2           0  \n",
       "3           0  \n",
       "4           0  \n",
       "\n",
       "[5 rows x 2169 columns]"
      ]
     },
     "execution_count": 21,
     "metadata": {},
     "output_type": "execute_result"
    }
   ],
   "source": [
    "combined_data.head()"
   ]
  },
  {
   "cell_type": "code",
   "execution_count": 28,
   "id": "4801d16e",
   "metadata": {},
   "outputs": [
    {
     "data": {
      "text/plain": [
       "(1852394, 2169)"
      ]
     },
     "execution_count": 28,
     "metadata": {},
     "output_type": "execute_result"
    }
   ],
   "source": [
    "combined_data.shape"
   ]
  },
  {
   "cell_type": "code",
   "execution_count": 31,
   "id": "9d40bfee",
   "metadata": {},
   "outputs": [
    {
     "name": "stdout",
     "output_type": "stream",
     "text": [
      "<class 'pandas.core.frame.DataFrame'>\n",
      "RangeIndex: 1852394 entries, 0 to 1852393\n",
      "Columns: 2169 entries, amt to job_Writer\n",
      "dtypes: float64(5), int64(1), uint8(2163)\n",
      "memory usage: 3.8 GB\n"
     ]
    }
   ],
   "source": [
    "combined_data.info()"
   ]
  },
  {
   "cell_type": "code",
   "execution_count": 5,
   "id": "3d612920",
   "metadata": {},
   "outputs": [],
   "source": [
    "# Remove irrelevant columns\n",
    "columns_to_drop = ['trans_date_trans_time', 'Unnamed: 0', 'cc_num', 'zip', 'first', 'last', 'street', 'trans_num', 'merch_lat', 'merch_long', 'unix_time']\n",
    "columns_to_drop = [col for col in columns_to_drop if col in combined_data.columns]\n",
    "combined_data = combined_data.drop(columns=columns_to_drop)\n"
   ]
  },
  {
   "cell_type": "code",
   "execution_count": 6,
   "id": "8bd3b9e5",
   "metadata": {},
   "outputs": [],
   "source": [
    "# Convert 'dob' to datetime format and calculate age\n",
    "combined_data['dob'] = pd.to_datetime(combined_data['dob'])\n",
    "combined_data['age'] = combined_data['dob'].apply(lambda x: datetime.now().year - x.year)\n",
    "combined_data = combined_data.drop(columns=['dob'])"
   ]
  },
  {
   "cell_type": "code",
   "execution_count": 7,
   "id": "a2d49345",
   "metadata": {},
   "outputs": [],
   "source": [
    "# Convert categorical variables to numerical using one-hot encoding\n",
    "combined_data = pd.get_dummies(combined_data, columns=['merchant', 'category', 'gender', 'city', 'state', 'job'])\n"
   ]
  },
  {
   "cell_type": "code",
   "execution_count": 8,
   "id": "451bc261",
   "metadata": {},
   "outputs": [],
   "source": [
    "# Identify numeric features\n",
    "numeric_features = ['amt', 'lat', 'long', 'city_pop', 'age']\n",
    "\n",
    "# Create the scaler and apply it only to the numeric features\n",
    "scaler = StandardScaler()\n",
    "combined_data[numeric_features] = scaler.fit_transform(combined_data[numeric_features])\n"
   ]
  },
  {
   "cell_type": "code",
   "execution_count": 9,
   "id": "75a5c8e7",
   "metadata": {},
   "outputs": [],
   "source": [
    "# Create a 10% sample of the dataset\n",
    "sampled_data = combined_data.sample(frac=0.1, random_state=42)\n"
   ]
  },
  {
   "cell_type": "code",
   "execution_count": 10,
   "id": "99d9f302",
   "metadata": {},
   "outputs": [],
   "source": [
    "# Separate features and target variable from the sampled dataset\n",
    "X = sampled_data.drop(columns=['is_fraud'])\n",
    "y = sampled_data['is_fraud']\n"
   ]
  },
  {
   "cell_type": "code",
   "execution_count": 11,
   "id": "bcfb8a27",
   "metadata": {},
   "outputs": [],
   "source": [
    "# Split the sample dataset into training and validation sets\n",
    "X_train, X_val, y_train, y_val = train_test_split(X, y, test_size=0.2, random_state=42)"
   ]
  },
  {
   "cell_type": "code",
   "execution_count": 12,
   "id": "11d05d44",
   "metadata": {},
   "outputs": [],
   "source": [
    "# Concatenate X_train and y_train for undersampling\n",
    "train_data_bal = pd.concat([X_train, y_train], axis=1)"
   ]
  },
  {
   "cell_type": "code",
   "execution_count": 13,
   "id": "62980f7c",
   "metadata": {},
   "outputs": [],
   "source": [
    "# Separate majority and minority classes\n",
    "not_fraud = train_data_bal[train_data_bal['is_fraud'] == 0]\n",
    "fraud = train_data_bal[train_data_bal['is_fraud'] == 1]\n",
    "\n",
    "# Undersample the majority class\n",
    "not_fraud_sampled = not_fraud.sample(n=len(fraud), random_state=42)\n",
    "balanced_train_data = pd.concat([not_fraud_sampled, fraud])"
   ]
  },
  {
   "cell_type": "code",
   "execution_count": 14,
   "id": "a719d666",
   "metadata": {},
   "outputs": [],
   "source": [
    "# Separate features and target variable from the balanced dataset\n",
    "X_train_balanced = balanced_train_data.drop(columns=['is_fraud'])\n",
    "y_train_balanced = balanced_train_data['is_fraud']"
   ]
  },
  {
   "cell_type": "markdown",
   "id": "e8fd1ebb",
   "metadata": {},
   "source": [
    "### Train the Logistic Regression Model"
   ]
  },
  {
   "cell_type": "code",
   "execution_count": 15,
   "id": "bc80dd9e",
   "metadata": {},
   "outputs": [
    {
     "data": {
      "text/html": [
       "<style>#sk-container-id-1 {color: black;}#sk-container-id-1 pre{padding: 0;}#sk-container-id-1 div.sk-toggleable {background-color: white;}#sk-container-id-1 label.sk-toggleable__label {cursor: pointer;display: block;width: 100%;margin-bottom: 0;padding: 0.3em;box-sizing: border-box;text-align: center;}#sk-container-id-1 label.sk-toggleable__label-arrow:before {content: \"▸\";float: left;margin-right: 0.25em;color: #696969;}#sk-container-id-1 label.sk-toggleable__label-arrow:hover:before {color: black;}#sk-container-id-1 div.sk-estimator:hover label.sk-toggleable__label-arrow:before {color: black;}#sk-container-id-1 div.sk-toggleable__content {max-height: 0;max-width: 0;overflow: hidden;text-align: left;background-color: #f0f8ff;}#sk-container-id-1 div.sk-toggleable__content pre {margin: 0.2em;color: black;border-radius: 0.25em;background-color: #f0f8ff;}#sk-container-id-1 input.sk-toggleable__control:checked~div.sk-toggleable__content {max-height: 200px;max-width: 100%;overflow: auto;}#sk-container-id-1 input.sk-toggleable__control:checked~label.sk-toggleable__label-arrow:before {content: \"▾\";}#sk-container-id-1 div.sk-estimator input.sk-toggleable__control:checked~label.sk-toggleable__label {background-color: #d4ebff;}#sk-container-id-1 div.sk-label input.sk-toggleable__control:checked~label.sk-toggleable__label {background-color: #d4ebff;}#sk-container-id-1 input.sk-hidden--visually {border: 0;clip: rect(1px 1px 1px 1px);clip: rect(1px, 1px, 1px, 1px);height: 1px;margin: -1px;overflow: hidden;padding: 0;position: absolute;width: 1px;}#sk-container-id-1 div.sk-estimator {font-family: monospace;background-color: #f0f8ff;border: 1px dotted black;border-radius: 0.25em;box-sizing: border-box;margin-bottom: 0.5em;}#sk-container-id-1 div.sk-estimator:hover {background-color: #d4ebff;}#sk-container-id-1 div.sk-parallel-item::after {content: \"\";width: 100%;border-bottom: 1px solid gray;flex-grow: 1;}#sk-container-id-1 div.sk-label:hover label.sk-toggleable__label {background-color: #d4ebff;}#sk-container-id-1 div.sk-serial::before {content: \"\";position: absolute;border-left: 1px solid gray;box-sizing: border-box;top: 0;bottom: 0;left: 50%;z-index: 0;}#sk-container-id-1 div.sk-serial {display: flex;flex-direction: column;align-items: center;background-color: white;padding-right: 0.2em;padding-left: 0.2em;position: relative;}#sk-container-id-1 div.sk-item {position: relative;z-index: 1;}#sk-container-id-1 div.sk-parallel {display: flex;align-items: stretch;justify-content: center;background-color: white;position: relative;}#sk-container-id-1 div.sk-item::before, #sk-container-id-1 div.sk-parallel-item::before {content: \"\";position: absolute;border-left: 1px solid gray;box-sizing: border-box;top: 0;bottom: 0;left: 50%;z-index: -1;}#sk-container-id-1 div.sk-parallel-item {display: flex;flex-direction: column;z-index: 1;position: relative;background-color: white;}#sk-container-id-1 div.sk-parallel-item:first-child::after {align-self: flex-end;width: 50%;}#sk-container-id-1 div.sk-parallel-item:last-child::after {align-self: flex-start;width: 50%;}#sk-container-id-1 div.sk-parallel-item:only-child::after {width: 0;}#sk-container-id-1 div.sk-dashed-wrapped {border: 1px dashed gray;margin: 0 0.4em 0.5em 0.4em;box-sizing: border-box;padding-bottom: 0.4em;background-color: white;}#sk-container-id-1 div.sk-label label {font-family: monospace;font-weight: bold;display: inline-block;line-height: 1.2em;}#sk-container-id-1 div.sk-label-container {text-align: center;}#sk-container-id-1 div.sk-container {/* jupyter's `normalize.less` sets `[hidden] { display: none; }` but bootstrap.min.css set `[hidden] { display: none !important; }` so we also need the `!important` here to be able to override the default hidden behavior on the sphinx rendered scikit-learn.org. See: https://github.com/scikit-learn/scikit-learn/issues/21755 */display: inline-block !important;position: relative;}#sk-container-id-1 div.sk-text-repr-fallback {display: none;}</style><div id=\"sk-container-id-1\" class=\"sk-top-container\"><div class=\"sk-text-repr-fallback\"><pre>LogisticRegression(max_iter=1000)</pre><b>In a Jupyter environment, please rerun this cell to show the HTML representation or trust the notebook. <br />On GitHub, the HTML representation is unable to render, please try loading this page with nbviewer.org.</b></div><div class=\"sk-container\" hidden><div class=\"sk-item\"><div class=\"sk-estimator sk-toggleable\"><input class=\"sk-toggleable__control sk-hidden--visually\" id=\"sk-estimator-id-1\" type=\"checkbox\" checked><label for=\"sk-estimator-id-1\" class=\"sk-toggleable__label sk-toggleable__label-arrow\">LogisticRegression</label><div class=\"sk-toggleable__content\"><pre>LogisticRegression(max_iter=1000)</pre></div></div></div></div></div>"
      ],
      "text/plain": [
       "LogisticRegression(max_iter=1000)"
      ]
     },
     "execution_count": 15,
     "metadata": {},
     "output_type": "execute_result"
    }
   ],
   "source": [
    "# Train the logistic regression model with the balanced training set\n",
    "model = LogisticRegression(max_iter=1000)\n",
    "model.fit(X_train_balanced, y_train_balanced)"
   ]
  },
  {
   "cell_type": "code",
   "execution_count": 16,
   "id": "fc0628a6",
   "metadata": {},
   "outputs": [],
   "source": [
    "# Make predictions on the validation set\n",
    "y_pred = model.predict(X_val)"
   ]
  },
  {
   "cell_type": "code",
   "execution_count": 17,
   "id": "826acb89",
   "metadata": {},
   "outputs": [
    {
     "name": "stdout",
     "output_type": "stream",
     "text": [
      "Accuracy after undersampling: 0.8913031742604189\n",
      "Confusion Matrix after undersampling:\n",
      " [[32869  3985]\n",
      " [   42   152]]\n",
      "Classification Report after undersampling:\n",
      "               precision    recall  f1-score   support\n",
      "\n",
      "           0       1.00      0.89      0.94     36854\n",
      "           1       0.04      0.78      0.07       194\n",
      "\n",
      "    accuracy                           0.89     37048\n",
      "   macro avg       0.52      0.84      0.51     37048\n",
      "weighted avg       0.99      0.89      0.94     37048\n",
      "\n"
     ]
    },
    {
     "data": {
      "image/png": "[encoded data removed]",
      "text/plain": [
       "<Figure size 800x500 with 2 Axes>"
      ]
     },
     "metadata": {},
     "output_type": "display_data"
    }
   ],
   "source": [
    "# Evaluate the model\n",
    "accuracy = accuracy_score(y_val, y_pred)\n",
    "conf_matrix = confusion_matrix(y_val, y_pred)\n",
    "class_report = classification_report(y_val, y_pred)\n",
    "\n",
    "# Print results\n",
    "print(\"Accuracy after undersampling:\", accuracy)\n",
    "print(\"Confusion Matrix after undersampling:\\n\", conf_matrix)\n",
    "print(\"Classification Report after undersampling:\\n\", class_report)\n",
    "\n",
    "# Visualize the confusion matrix\n",
    "df_cm = pd.DataFrame(conf_matrix, columns=np.unique(y_val), index=np.unique(y_val))\n",
    "df_cm.index.name = 'Actual'\n",
    "df_cm.columns.name = 'Predicted'\n",
    "plt.figure(figsize=(8, 5))\n",
    "sns.heatmap(df_cm, cmap=\"Blues\", annot=True, annot_kws={\"size\": 16})  # font size\n",
    "plt.show()"
   ]
  },
  {
   "cell_type": "markdown",
   "id": "384ca219",
   "metadata": {},
   "source": [
    "### Train the Random Forest Model "
   ]
  },
  {
   "cell_type": "code",
   "execution_count": 18,
   "id": "11b43d5f",
   "metadata": {},
   "outputs": [
    {
     "data": {
      "text/html": [
       "<style>#sk-container-id-2 {color: black;}#sk-container-id-2 pre{padding: 0;}#sk-container-id-2 div.sk-toggleable {background-color: white;}#sk-container-id-2 label.sk-toggleable__label {cursor: pointer;display: block;width: 100%;margin-bottom: 0;padding: 0.3em;box-sizing: border-box;text-align: center;}#sk-container-id-2 label.sk-toggleable__label-arrow:before {content: \"▸\";float: left;margin-right: 0.25em;color: #696969;}#sk-container-id-2 label.sk-toggleable__label-arrow:hover:before {color: black;}#sk-container-id-2 div.sk-estimator:hover label.sk-toggleable__label-arrow:before {color: black;}#sk-container-id-2 div.sk-toggleable__content {max-height: 0;max-width: 0;overflow: hidden;text-align: left;background-color: #f0f8ff;}#sk-container-id-2 div.sk-toggleable__content pre {margin: 0.2em;color: black;border-radius: 0.25em;background-color: #f0f8ff;}#sk-container-id-2 input.sk-toggleable__control:checked~div.sk-toggleable__content {max-height: 200px;max-width: 100%;overflow: auto;}#sk-container-id-2 input.sk-toggleable__control:checked~label.sk-toggleable__label-arrow:before {content: \"▾\";}#sk-container-id-2 div.sk-estimator input.sk-toggleable__control:checked~label.sk-toggleable__label {background-color: #d4ebff;}#sk-container-id-2 div.sk-label input.sk-toggleable__control:checked~label.sk-toggleable__label {background-color: #d4ebff;}#sk-container-id-2 input.sk-hidden--visually {border: 0;clip: rect(1px 1px 1px 1px);clip: rect(1px, 1px, 1px, 1px);height: 1px;margin: -1px;overflow: hidden;padding: 0;position: absolute;width: 1px;}#sk-container-id-2 div.sk-estimator {font-family: monospace;background-color: #f0f8ff;border: 1px dotted black;border-radius: 0.25em;box-sizing: border-box;margin-bottom: 0.5em;}#sk-container-id-2 div.sk-estimator:hover {background-color: #d4ebff;}#sk-container-id-2 div.sk-parallel-item::after {content: \"\";width: 100%;border-bottom: 1px solid gray;flex-grow: 1;}#sk-container-id-2 div.sk-label:hover label.sk-toggleable__label {background-color: #d4ebff;}#sk-container-id-2 div.sk-serial::before {content: \"\";position: absolute;border-left: 1px solid gray;box-sizing: border-box;top: 0;bottom: 0;left: 50%;z-index: 0;}#sk-container-id-2 div.sk-serial {display: flex;flex-direction: column;align-items: center;background-color: white;padding-right: 0.2em;padding-left: 0.2em;position: relative;}#sk-container-id-2 div.sk-item {position: relative;z-index: 1;}#sk-container-id-2 div.sk-parallel {display: flex;align-items: stretch;justify-content: center;background-color: white;position: relative;}#sk-container-id-2 div.sk-item::before, #sk-container-id-2 div.sk-parallel-item::before {content: \"\";position: absolute;border-left: 1px solid gray;box-sizing: border-box;top: 0;bottom: 0;left: 50%;z-index: -1;}#sk-container-id-2 div.sk-parallel-item {display: flex;flex-direction: column;z-index: 1;position: relative;background-color: white;}#sk-container-id-2 div.sk-parallel-item:first-child::after {align-self: flex-end;width: 50%;}#sk-container-id-2 div.sk-parallel-item:last-child::after {align-self: flex-start;width: 50%;}#sk-container-id-2 div.sk-parallel-item:only-child::after {width: 0;}#sk-container-id-2 div.sk-dashed-wrapped {border: 1px dashed gray;margin: 0 0.4em 0.5em 0.4em;box-sizing: border-box;padding-bottom: 0.4em;background-color: white;}#sk-container-id-2 div.sk-label label {font-family: monospace;font-weight: bold;display: inline-block;line-height: 1.2em;}#sk-container-id-2 div.sk-label-container {text-align: center;}#sk-container-id-2 div.sk-container {/* jupyter's `normalize.less` sets `[hidden] { display: none; }` but bootstrap.min.css set `[hidden] { display: none !important; }` so we also need the `!important` here to be able to override the default hidden behavior on the sphinx rendered scikit-learn.org. See: https://github.com/scikit-learn/scikit-learn/issues/21755 */display: inline-block !important;position: relative;}#sk-container-id-2 div.sk-text-repr-fallback {display: none;}</style><div id=\"sk-container-id-2\" class=\"sk-top-container\"><div class=\"sk-text-repr-fallback\"><pre>RandomForestClassifier(class_weight=&#x27;balanced&#x27;, random_state=42)</pre><b>In a Jupyter environment, please rerun this cell to show the HTML representation or trust the notebook. <br />On GitHub, the HTML representation is unable to render, please try loading this page with nbviewer.org.</b></div><div class=\"sk-container\" hidden><div class=\"sk-item\"><div class=\"sk-estimator sk-toggleable\"><input class=\"sk-toggleable__control sk-hidden--visually\" id=\"sk-estimator-id-2\" type=\"checkbox\" checked><label for=\"sk-estimator-id-2\" class=\"sk-toggleable__label sk-toggleable__label-arrow\">RandomForestClassifier</label><div class=\"sk-toggleable__content\"><pre>RandomForestClassifier(class_weight=&#x27;balanced&#x27;, random_state=42)</pre></div></div></div></div></div>"
      ],
      "text/plain": [
       "RandomForestClassifier(class_weight='balanced', random_state=42)"
      ]
     },
     "execution_count": 18,
     "metadata": {},
     "output_type": "execute_result"
    }
   ],
   "source": [
    "# Train the Random Forest model with class weight adjustment\n",
    "model_rf = RandomForestClassifier(n_estimators=100, class_weight='balanced', random_state=42)\n",
    "model_rf.fit(X_train_balanced, y_train_balanced)"
   ]
  },
  {
   "cell_type": "code",
   "execution_count": 19,
   "id": "b3b31e46",
   "metadata": {},
   "outputs": [],
   "source": [
    "# Make predictions on the validation set\n",
    "y_pred_rf = model_rf.predict(X_val)"
   ]
  },
  {
   "cell_type": "code",
   "execution_count": 20,
   "id": "e80807cc",
   "metadata": {},
   "outputs": [
    {
     "name": "stdout",
     "output_type": "stream",
     "text": [
      "Random Forest model accuracy: 0.9592960483696825\n",
      "Random Forest Confusion Matrix:\n",
      " [[35378  1476]\n",
      " [   32   162]]\n",
      "Random Forest Classification Report:\n",
      "               precision    recall  f1-score   support\n",
      "\n",
      "           0       1.00      0.96      0.98     36854\n",
      "           1       0.10      0.84      0.18       194\n",
      "\n",
      "    accuracy                           0.96     37048\n",
      "   macro avg       0.55      0.90      0.58     37048\n",
      "weighted avg       0.99      0.96      0.97     37048\n",
      "\n"
     ]
    },
    {
     "data": {
      "image/png": "[encoded data removed]",
      "text/plain": [
       "<Figure size 800x500 with 2 Axes>"
      ]
     },
     "metadata": {},
     "output_type": "display_data"
    }
   ],
   "source": [
    "# Evaluate the model\n",
    "accuracy_rf = accuracy_score(y_val, y_pred_rf)\n",
    "conf_matrix_rf = confusion_matrix(y_val, y_pred_rf)\n",
    "class_report_rf = classification_report(y_val, y_pred_rf)\n",
    "\n",
    "# Print results\n",
    "print(\"Random Forest model accuracy:\", accuracy_rf)\n",
    "print(\"Random Forest Confusion Matrix:\\n\", conf_matrix_rf)\n",
    "print(\"Random Forest Classification Report:\\n\", class_report_rf)\n",
    "\n",
    "# Visualize the confusion matrix\n",
    "df_cm_rf = pd.DataFrame(conf_matrix_rf, columns=np.unique(y_val), index=np.unique(y_val))\n",
    "df_cm_rf.index.name = 'Actual'\n",
    "df_cm_rf.columns.name = 'Predicted'\n",
    "plt.figure(figsize=(8, 5))\n",
    "sns.heatmap(df_cm_rf, cmap=\"Blues\", annot=True, annot_kws={\"size\": 16})  # font size\n",
    "plt.show()"
   ]
  },
  {
   "cell_type": "markdown",
   "id": "ec4d73c4",
   "metadata": {},
   "source": [
    "### Conclusion"
   ]
  },
  {
   "cell_type": "markdown",
   "id": "4ebe814f",
   "metadata": {},
   "source": [
    "The Random Forest model clearly outperforms the Logistic Regression model in detecting fraudulent credit cards transaction. Its ability to better handle class imbalance and superior performance in terms of precision and recall make it more suitable for this problem. However, ongoing improvement and model stunning are essential to adapt to new fraud patterns and maintain robus fraud detection capabilities."
   ]
  },
  {
   "cell_type": "code",
   "execution_count": null,
   "id": "88a93f8c",
   "metadata": {},
   "outputs": [],
   "source": []
  }
 ],
 "metadata": {
  "kernelspec": {
   "display_name": "Python 3 (ipykernel)",
   "language": "python",
   "name": "python3"
  },
  "language_info": {
   "codemirror_mode": {
    "name": "ipython",
    "version": 3
   },
   "file_extension": ".py",
   "mimetype": "text/x-python",
   "name": "python",
   "nbconvert_exporter": "python",
   "pygments_lexer": "ipython3",
   "version": "3.10.9"
  }
 },
 "nbformat": 4,
 "nbformat_minor": 5
}
